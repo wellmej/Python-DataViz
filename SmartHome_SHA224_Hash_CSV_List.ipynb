{
  "nbformat": 4,
  "nbformat_minor": 0,
  "metadata": {
    "kernelspec": {
      "display_name": "Python 3",
      "language": "python",
      "name": "python3"
    },
    "language_info": {
      "codemirror_mode": {
        "name": "ipython",
        "version": 3
      },
      "file_extension": ".py",
      "mimetype": "text/x-python",
      "name": "python",
      "nbconvert_exporter": "python",
      "pygments_lexer": "ipython3",
      "version": "3.5.6"
    },
    "colab": {
      "name": "SmartHome_SHA224_Hash_CSV_List.ipynb",
      "provenance": [],
      "collapsed_sections": [],
      "include_colab_link": true
    }
  },
  "cells": [
    {
      "cell_type": "markdown",
      "metadata": {
        "id": "view-in-github",
        "colab_type": "text"
      },
      "source": [
        "<a href=\"https://colab.research.google.com/github/wellmej/Python-DataViz/blob/master/SmartHome_SHA224_Hash_CSV_List.ipynb\" target=\"_parent\"><img src=\"https://colab.research.google.com/assets/colab-badge.svg\" alt=\"Open In Colab\"/></a>"
      ]
    },
    {
      "cell_type": "code",
      "metadata": {
        "id": "jsunzm-jTK_m"
      },
      "source": [
        "#-------------------------------------------------------------------------------------------------------------------\n",
        "# This Python routine will perform the following steps:\n",
        "#-------------------------------------------------------------------------------------------------------------------\n",
        "#  1. Import necessary libraries for CSV file and Hash algorithm processing.\n",
        "#  2. List CSV files in a given directory to be selected as source input for a list of policy\n",
        "#     numbers to hash.\n",
        "#  3. Prompt for an output file name to store the hashed information.\n",
        "#  4. Read thru selected CSV input file and for each row:\n",
        "#     a. Hash the policy number with SHA224 has algortithm, and capture last 8 characters of the hashed result\n",
        "#     b. Write the selected CSV output file row file with following info:\n",
        "#        i.   Input Policy Number\n",
        "#        ii.  Last 8 characters of Hash result (Activation Code)\n",
        "#        iii. Hash SHA224 Result of Policy Number\n",
        "#  5  Print results of the hashed data.\n",
        "#  6. Close and finalize selected output CSV file.\n",
        "#\n",
        "#\n",
        "#--------------------------------------------------------\n",
        "# Revision History\n",
        "#--------------------------------------------------------\n",
        "# \n",
        "# By                 Date        Description\n",
        "# ----------------   ----------  --------------------------------\n",
        "# Jack Wellmerling   11/17/2019  Inital program created\n",
        "# \n",
        "# Jack Wellmerling   12/07/2019  Change to selected input file from list and\n",
        "#                                prompt for output file name\n",
        "#\n",
        "# Jack Wellmerling   12/16/2019  Change to use .CSV file extension instead of .TXT\n",
        "#\n",
        "#----------------------------------------------------------------"
      ],
      "execution_count": null,
      "outputs": []
    },
    {
      "cell_type": "code",
      "metadata": {
        "id": "jR-mCIn-TLAB"
      },
      "source": [
        "#----------------------------------------------------------------\n",
        "# Import Necessary Libraries for CSV File and Hash Processing\n",
        "#----------------------------------------------------------------\n",
        "\n",
        "# SHA hash algorithms. \n",
        "  \n",
        "import hashlib \n",
        "import csv\n",
        "\n",
        "import numpy as np\n",
        "import pandas as pd\n",
        "import os\n"
      ],
      "execution_count": null,
      "outputs": []
    },
    {
      "cell_type": "code",
      "metadata": {
        "id": "E_fZ9EL-TLAI",
        "outputId": "243546a7-4e91-48a4-fd23-e4b354f25baf"
      },
      "source": [
        "#---------------------------------------------------------------------------\n",
        "# List files in a Directory/Folder with a given file extension\n",
        "#---------------------------------------------------------------------------\n",
        "\n",
        "ext = '.csv'\n",
        "\n",
        "#set to your working directory\n",
        "dir_path = 'C:/Users/wellmej/OneDrive - Nationwide/Documents/PLD-SmartRide/SmartHome/2019 PID Info/Project Details/Data/Notion/'\n",
        "\n",
        "os.chdir(dir_path)\n",
        "print(\"Current Working Directory \" , os.getcwd())\n",
        "files = os.listdir(dir_path)\n",
        "for f in files:\n",
        "  if f.endswith(ext):\n",
        "    print(\"File: \" , f)\n"
      ],
      "execution_count": null,
      "outputs": [
        {
          "output_type": "stream",
          "text": [
            "Current Working Directory  C:\\Users\\wellmej\\OneDrive - Nationwide\\Documents\\PLD-SmartRide\\SmartHome\\2019 PID Info\\Project Details\\Data\\Notion\n",
            "File:  Hash_Test1_Input.csv\n",
            "File:  Hash_Test1_Out.csv\n",
            "File:  Hash_Test1_Output.csv\n",
            "File:  Ned_test1-JRW.csv\n",
            "File:  Private_Client_Policy_List_IN_Small_OUT.csv\n"
          ],
          "name": "stdout"
        }
      ]
    },
    {
      "cell_type": "code",
      "metadata": {
        "id": "iVaVUL_ATLAR",
        "outputId": "3a8089a6-48e5-4176-93f2-c46954c692a4"
      },
      "source": [
        "print(\"Current Working Directory \" , os.getcwd())\n",
        "from tkinter.filedialog import askopenfilename\n",
        "selected_filename = askopenfilename(initialdir = dir_path, title = \"Select file\",filetypes = ((\"CSV files\",\"*.csv\"),(\"all files\",\"*.*\")))"
      ],
      "execution_count": null,
      "outputs": [
        {
          "output_type": "stream",
          "text": [
            "Current Working Directory  C:\\Users\\wellmej\\OneDrive - Nationwide\\Documents\\PLD-SmartRide\\SmartHome\\2019 PID Info\\Project Details\\Data\\Notion\n"
          ],
          "name": "stdout"
        }
      ]
    },
    {
      "cell_type": "code",
      "metadata": {
        "id": "WbduL9l6TLAe",
        "outputId": "8f031944-88a5-4647-9280-76954806a6c8"
      },
      "source": [
        "print (\"Selected File name: \", selected_filename)"
      ],
      "execution_count": null,
      "outputs": [
        {
          "output_type": "stream",
          "text": [
            "Selected File name:  C:/Users/wellmej/OneDrive - Nationwide/Documents/PLD-SmartRide/SmartHome/2019 PID Info/Project Details/Data/Notion/Hash_Test1_Input.csv\n"
          ],
          "name": "stdout"
        }
      ]
    },
    {
      "cell_type": "code",
      "metadata": {
        "id": "hCEuINjiTLAm",
        "outputId": "a5fb4e2a-066c-4914-e449-8ae0a9938329"
      },
      "source": [
        "from tkinter import filedialog\n",
        "from tkinter import *\n",
        "\n",
        "root = Tk()\n",
        "root.filename =  filedialog.asksaveasfilename(initialdir = dir_path, title = \"Enter file including CSV extension\",filetypes = ((\"CSV files\",\"*.csv\"),(\"all files\",\"*.*\")))\n",
        "print (root.filename)\n",
        "save_filename = root.filename"
      ],
      "execution_count": null,
      "outputs": [
        {
          "output_type": "stream",
          "text": [
            "C:/Users/wellmej/OneDrive - Nationwide/Documents/PLD-SmartRide/SmartHome/2019 PID Info/Project Details/Data/Notion/Hash_Test1_Output.csv\n"
          ],
          "name": "stdout"
        }
      ]
    },
    {
      "cell_type": "code",
      "metadata": {
        "id": "1kfK38FvTLAu",
        "outputId": "7bfefb10-d13c-4aee-de80-c739e494e70f"
      },
      "source": [
        "print (\"Output File name: \", save_filename)"
      ],
      "execution_count": null,
      "outputs": [
        {
          "output_type": "stream",
          "text": [
            "Output File name:  C:/Users/wellmej/OneDrive - Nationwide/Documents/PLD-SmartRide/SmartHome/2019 PID Info/Project Details/Data/Notion/Hash_Test1_Output.csv\n"
          ],
          "name": "stdout"
        }
      ]
    },
    {
      "cell_type": "code",
      "metadata": {
        "id": "5Pm9Mm0LTLA3",
        "outputId": "83afe607-e4f0-4c86-b0dc-281defe8f929"
      },
      "source": [
        "#----------------------------------------------------------------\n",
        "# Read CSV file into dataframe - Display first 10 values\n",
        "#----------------------------------------------------------------\n",
        "\n",
        "# Read in the CSV file and convert \"?\" to NaN\n",
        "\n",
        "in_file = selected_filename\n",
        "\n",
        "out_file = save_filename\n",
        "\n",
        "df_raw = pd.read_csv(in_file, na_values=\"?\", header=None )\n",
        "\n",
        "policy_in_df = df_raw\n",
        "\n",
        "policy_in_df.head(10)"
      ],
      "execution_count": null,
      "outputs": [
        {
          "output_type": "execute_result",
          "data": {
            "text/html": [
              "<div>\n",
              "<style scoped>\n",
              "    .dataframe tbody tr th:only-of-type {\n",
              "        vertical-align: middle;\n",
              "    }\n",
              "\n",
              "    .dataframe tbody tr th {\n",
              "        vertical-align: top;\n",
              "    }\n",
              "\n",
              "    .dataframe thead th {\n",
              "        text-align: right;\n",
              "    }\n",
              "</style>\n",
              "<table border=\"1\" class=\"dataframe\">\n",
              "  <thead>\n",
              "    <tr style=\"text-align: right;\">\n",
              "      <th></th>\n",
              "      <th>0</th>\n",
              "    </tr>\n",
              "  </thead>\n",
              "  <tbody>\n",
              "    <tr>\n",
              "      <th>0</th>\n",
              "      <td>9234HO123456</td>\n",
              "    </tr>\n",
              "    <tr>\n",
              "      <th>1</th>\n",
              "      <td>9234H 999888</td>\n",
              "    </tr>\n",
              "    <tr>\n",
              "      <th>2</th>\n",
              "      <td>9234MP010203</td>\n",
              "    </tr>\n",
              "    <tr>\n",
              "      <th>3</th>\n",
              "      <td>9113C 000123</td>\n",
              "    </tr>\n",
              "    <tr>\n",
              "      <th>4</th>\n",
              "      <td>7202HO500500</td>\n",
              "    </tr>\n",
              "  </tbody>\n",
              "</table>\n",
              "</div>"
            ],
            "text/plain": [
              "              0\n",
              "0  9234HO123456\n",
              "1  9234H 999888\n",
              "2  9234MP010203\n",
              "3  9113C 000123\n",
              "4  7202HO500500"
            ]
          },
          "metadata": {
            "tags": []
          },
          "execution_count": 11
        }
      ]
    },
    {
      "cell_type": "code",
      "metadata": {
        "id": "4tXLR_D6TLBC",
        "outputId": "6b5a3ead-abe6-4376-e7c1-971abcb4e3c9"
      },
      "source": [
        "#----------------------------------------------------------------\n",
        "# 1. Open Output CSV file to write Policy and Hashed data to. Set newline to null to avoid writing blank lines.\n",
        "# 2. Read thru CSV inpiut file for each row\n",
        "# 3. For each row, Hash the policy number, and capture last\n",
        "#    8 characters of the hashed result\n",
        "# 4. Write CSV output file for each new row with:\n",
        "#    a. Input Policy Number\n",
        "#    b. Hash SHA224 Result of Policy Number\n",
        "#    c. Last 8 characters of Hash result (Activation Code)\n",
        "#----------------------------------------------------------------\n",
        "\n",
        "with open(out_file, mode='w', newline='') as hash_file_out:\n",
        "      hash_file = csv.writer(hash_file_out, delimiter=',', quotechar='\"', quoting=csv.QUOTE_MINIMAL)\n",
        "        \n",
        "      policy_in = open(in_file)\n",
        "      policy_in_csv = csv.reader(policy_in)\n",
        "      row_index = 0\n",
        "\n",
        "#----------------------------------------------------------------\n",
        "# For each input row, read the Policy_Number, hash it using\n",
        "# SHA224 alogrithm, capture last 8 characters of the hash, and\n",
        "# write Policy_Number, Full Hash, and Last 8 Hash to new\n",
        "# output CSV file.\n",
        "#----------------------------------------------------------------\n",
        "      for row in policy_in_csv:\n",
        "        print (row[row_index])\n",
        "        row_new = row\n",
        "        policy_number = row[row_index]\n",
        "#\n",
        "# encoding <Policy_number> using encode() \n",
        "# then sending to SHA224() \n",
        "        result = hashlib.sha224(policy_number.encode()) \n",
        "  \n",
        "# printing the equivalent hexadecimal value. \n",
        "        print(\"The hexadecimal equivalent of SHA224 is : \")  \n",
        "        print(result.hexdigest()) \n",
        "\n",
        "        row_new.append(result.hexdigest()[48:])\n",
        "        row_new.append(result.hexdigest())\n",
        "        \n",
        "        print (row_new)\n",
        "               \n",
        "#----------------------------------------------------------------\n",
        "#      Write out new CSV row\n",
        "#----------------------------------------------------------------\n",
        "        hash_file.writerow(row_new)\n",
        "    \n",
        "        print (\"\\r\") \n",
        "#\n",
        "# End\n",
        "#"
      ],
      "execution_count": null,
      "outputs": [
        {
          "output_type": "stream",
          "text": [
            "9234HO123456\n",
            "The hexadecimal equivalent of SHA224 is : \n",
            "150a839228e4cdae0985705c4b2f3a74d69824041a3a1612b72ad006\n",
            "['9234HO123456', 'b72ad006', '150a839228e4cdae0985705c4b2f3a74d69824041a3a1612b72ad006']\n",
            "\r\n",
            "9234H 999888\n",
            "The hexadecimal equivalent of SHA224 is : \n",
            "c334eee7aec83cc92f9bc045ff37aff4d6fa8791a1037748d4974f82\n",
            "['9234H 999888', 'd4974f82', 'c334eee7aec83cc92f9bc045ff37aff4d6fa8791a1037748d4974f82']\n",
            "\r\n",
            "9234MP010203\n",
            "The hexadecimal equivalent of SHA224 is : \n",
            "55f8431b9b906e10e0f93763e036f2fa68a65a8d9cc1ccd9d79635fe\n",
            "['9234MP010203', 'd79635fe', '55f8431b9b906e10e0f93763e036f2fa68a65a8d9cc1ccd9d79635fe']\n",
            "\r\n",
            "9113C 000123\n",
            "The hexadecimal equivalent of SHA224 is : \n",
            "d195d1af631ca326a39ccb57c1b7924d3cd4fdbac213b94ff5fba1eb\n",
            "['9113C 000123', 'f5fba1eb', 'd195d1af631ca326a39ccb57c1b7924d3cd4fdbac213b94ff5fba1eb']\n",
            "\r\n",
            "7202HO500500\n",
            "The hexadecimal equivalent of SHA224 is : \n",
            "923e92c02ad2630f13b0113ddd6b76fa94bc2c447ec4f1a88a802696\n",
            "['7202HO500500', '8a802696', '923e92c02ad2630f13b0113ddd6b76fa94bc2c447ec4f1a88a802696']\n",
            "\r\n"
          ],
          "name": "stdout"
        }
      ]
    },
    {
      "cell_type": "markdown",
      "metadata": {
        "id": "kKn92OUATLBJ"
      },
      "source": [
        "#### End of Policy SHA224 Hash Function"
      ]
    },
    {
      "cell_type": "code",
      "metadata": {
        "id": "IYo59wOyTLBL"
      },
      "source": [
        ""
      ],
      "execution_count": null,
      "outputs": []
    },
    {
      "cell_type": "code",
      "metadata": {
        "id": "1jXM6g6ATLBT"
      },
      "source": [
        ""
      ],
      "execution_count": null,
      "outputs": []
    }
  ]
}